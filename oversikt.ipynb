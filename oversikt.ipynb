{
 "cells": [
  {
   "cell_type": "raw",
   "metadata": {},
   "source": [
    "---\n",
    "title: Rekrutteringsbistand - oversikt\n",
    "title-block-banner: true\n",
    "title-block-banner-color: white\n",
    "date: now\n",
    "date-format: 'DD.MM.YYYY HH:mm:ss z'\n",
    "published-title: Oppdatert\n",
    "author: Team Toi\n",
    "author-title: Eier\n",
    "execute:\n",
    "  echo: false\n",
    "  warning: false\n",
    "format:\n",
    "  html:\n",
    "    page-layout: full\n",
    "    embed-resources: true\n",
    "---"
   ]
  }
 ],
 "metadata": {
  "kernelspec": {
   "display_name": "Python 3 (ipykernel)",
   "language": "python",
   "name": "python3"
  }
 },
 "nbformat": 4,
 "nbformat_minor": 4
}
