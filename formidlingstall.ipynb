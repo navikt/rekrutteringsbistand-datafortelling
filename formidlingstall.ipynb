{
 "cells": [
  {
   "cell_type": "raw",
   "metadata": {},
   "source": [
    "---\n",
    "title: Formidlingstall\n",
    "title-block-banner: true\n",
    "title-block-banner-color: white\n",
    "date: now\n",
    "date-format: 'DD.MM.YYYY HH:mm:ss z'\n",
    "published-title: Oppdatert\n",
    "author: Team Toi\n",
    "author-title: Eier\n",
    "execute:\n",
    "  echo: false\n",
    "  warning: false\n",
    "format:\n",
    "  html:\n",
    "    page-layout: full\n",
    "    embed-resources: true\n",
    "---"
   ]
  },
  {
   "cell_type": "markdown",
   "metadata": {},
   "source": [
    "<span style=\"color:red;\">\n",
    "NB! Dette er ikke offisiell statistikk og må ikke deles utenfor NAV.\n",
    "</span>"
   ]
  },
  {
   "cell_type": "code",
   "execution_count": null,
   "metadata": {},
   "outputs": [],
   "source": [
    "from google.cloud.bigquery import Client\n",
    "import pandas as pd\n",
    "import plotly.graph_objects as go"
   ]
  },
  {
   "cell_type": "code",
   "execution_count": null,
   "metadata": {},
   "outputs": [],
   "source": [
    "project = \"toi-prod-324e\"\n",
    "bq_client = Client(project)"
   ]
  },
  {
   "cell_type": "code",
   "execution_count": null,
   "metadata": {},
   "outputs": [],
   "source": [
    "query = f\"\"\"\n",
    "    select\n",
    "        FORMAT_DATETIME('%Y-%m', u.tidspunkt) as tidspunkt_utfall_yearmonth,\n",
    "        vk.stillingskategori,\n",
    "        count(*) as antall\n",
    "    from `rekrutteringsbistand_kandidat.utfallsendring` u\n",
    "        inner join `rekrutteringsbistand_kandidat.veilkandidat` v on u.veilkandidat_db_id = v.db_id\n",
    "        inner join `rekrutteringsbistand_kandidat.veilkandliste` vk on v.veilkandliste_db_id = vk.db_id\n",
    "    where u.nytt_utfall = 'FATT_JOBBEN'\n",
    "    group by tidspunkt_utfall_yearmonth, vk.stillingskategori\n",
    "    order by tidspunkt_utfall_yearmonth\n",
    "    \"\"\"\n",
    "df_synlige = bq_client.query(query=query).to_dataframe()"
   ]
  },
  {
   "cell_type": "code",
   "execution_count": null,
   "metadata": {},
   "outputs": [],
   "source": [
    "query = f\"\"\"\n",
    "    select\n",
    "        FORMAT_DATETIME('%Y-%m', DATE(TIMESTAMP_MILLIS(CAST(lagt_til_tidspunkt/1000000 AS INT64)))) as tidspunkt_utfall_yearmonth,\n",
    "        vk.stillingskategori,\n",
    "        count(*) as antall\n",
    "    from `rekrutteringsbistand_kandidat.formidlingavusynligkandidat` fk\n",
    "        inner join `rekrutteringsbistand_kandidat.veilkandliste` vk on fk.veilkandliste_db_id = vk.db_id\n",
    "    where fk.utfall = 'FATT_JOBBEN'\n",
    "    group by tidspunkt_utfall_yearmonth, vk.stillingskategori\n",
    "    order by tidspunkt_utfall_yearmonth\n",
    " \"\"\"\n",
    "df_usynlige = bq_client.query(query=query).to_dataframe()"
   ]
  },
  {
   "cell_type": "code",
   "execution_count": null,
   "metadata": {},
   "outputs": [],
   "source": [
    "df_synlige[\"synlige_kandidater\"] = True\n",
    "df_usynlige[\"synlige_kandidater\"] = False"
   ]
  },
  {
   "cell_type": "code",
   "execution_count": null,
   "metadata": {},
   "outputs": [],
   "source": [
    "df = pd.concat([df_synlige, df_usynlige], ignore_index=True)\n",
    "df = df.sort_values(\"tidspunkt_utfall_yearmonth\")"
   ]
  },
  {
   "cell_type": "code",
   "execution_count": null,
   "metadata": {},
   "outputs": [],
   "source": [
    "# Erstatt None med \"Uten kategori\"\n",
    "df.fillna(\"Uten kategori\", inplace=True)"
   ]
  },
  {
   "cell_type": "code",
   "execution_count": null,
   "metadata": {},
   "outputs": [],
   "source": [
    "def plot_antall_faatt_jobb(df, kolonne, kolonne_navn):\n",
    "    fig = go.Figure()\n",
    "    for stillingskategori in df.stillingskategori.unique():\n",
    "        fig.add_trace(\n",
    "            go.Scatter(\n",
    "                x=df.loc[df.stillingskategori == stillingskategori, kolonne].unique(),\n",
    "                y=df[df.stillingskategori == stillingskategori]\n",
    "                .groupby(kolonne)\n",
    "                .antall.sum(),\n",
    "                name=stillingskategori,\n",
    "                mode=\"lines+markers\",\n",
    "                line=dict(width=2),\n",
    "                marker=dict(size=4),\n",
    "            )\n",
    "        )\n",
    "    fig.update_layout(\n",
    "        title_text=\"Antall fått jobben per \" + kolonne_navn.lower(),\n",
    "        xaxis_title=kolonne_navn,\n",
    "        yaxis_title=\"Antall kandidater\",\n",
    "    )\n",
    "\n",
    "    # Legg til x-slider\n",
    "    fig.update_layout(\n",
    "        xaxis=dict(autorange=True, rangeslider=dict(autorange=True, visible=True)),\n",
    "    )\n",
    "\n",
    "    return fig"
   ]
  },
  {
   "cell_type": "code",
   "execution_count": null,
   "metadata": {},
   "outputs": [],
   "source": [
    "def plot_andel_stilling(df, kolonne, kolonne_navn):\n",
    "    antall_stillinger = (\n",
    "        df[df.stillingskategori == \"STILLING\"].groupby(kolonne).antall.sum()\n",
    "    )\n",
    "    totalt_antall = df.groupby(kolonne).antall.sum()\n",
    "\n",
    "    andel_stilling = antall_stillinger / totalt_antall\n",
    "    andel_stilling = andel_stilling.reset_index()\n",
    "\n",
    "    fig = go.Figure()\n",
    "    fig.add_trace(\n",
    "        go.Scatter(\n",
    "            x=andel_stilling[kolonne],\n",
    "            y=andel_stilling.antall,\n",
    "            name=\"Andel stilling\",\n",
    "            mode=\"lines+markers\",\n",
    "            line=dict(width=2),\n",
    "            marker=dict(size=4),\n",
    "        )\n",
    "    )\n",
    "    fig.update_layout(\n",
    "        title_text=\"Andel stilling (STILLING / TOTALT) per \" + kolonne_navn.lower(),\n",
    "        xaxis_title=kolonne_navn,\n",
    "        yaxis_title=\"Andel\",\n",
    "    )\n",
    "    fig.update_yaxes(range=[0, 1])\n",
    "\n",
    "    # Legg til x-slider\n",
    "    fig.update_layout(\n",
    "        xaxis=dict(autorange=True, rangeslider=dict(autorange=True, visible=True)),\n",
    "    )\n",
    "\n",
    "    return fig"
   ]
  },
  {
   "cell_type": "markdown",
   "metadata": {},
   "source": [
    "::: {.panel-tabset}\n",
    "\n",
    "## Per måned"
   ]
  },
  {
   "cell_type": "code",
   "execution_count": null,
   "metadata": {},
   "outputs": [],
   "source": [
    "fig = plot_antall_faatt_jobb(df, \"tidspunkt_utfall_yearmonth\", \"Måned\")\n",
    "fig.show()"
   ]
  },
  {
   "cell_type": "code",
   "execution_count": null,
   "metadata": {},
   "outputs": [],
   "source": [
    "fig = plot_andel_stilling(df, \"tidspunkt_utfall_yearmonth\", \"Måned\")\n",
    "fig.show()"
   ]
  },
  {
   "cell_type": "markdown",
   "metadata": {},
   "source": [
    "## Per tertial"
   ]
  },
  {
   "cell_type": "code",
   "execution_count": null,
   "metadata": {},
   "outputs": [],
   "source": [
    "# Transformere måned til tertial\n",
    "def yearmonth_to_tertial(yearmonth):\n",
    "    year, month = yearmonth.split(\"-\")\n",
    "    month = int(month)\n",
    "    if month <= 4:\n",
    "        return f\"{year}-T1\"\n",
    "    elif month <= 8:\n",
    "        return f\"{year}-T2\"\n",
    "    else:\n",
    "        return f\"{year}-T3\""
   ]
  },
  {
   "cell_type": "code",
   "execution_count": null,
   "metadata": {},
   "outputs": [],
   "source": [
    "df[\"tidspunkt_utfall_tertial\"] = df[\"tidspunkt_utfall_yearmonth\"].apply(\n",
    "    yearmonth_to_tertial\n",
    ")\n",
    "\n",
    "fig = plot_antall_faatt_jobb(df, \"tidspunkt_utfall_tertial\", \"Tertial\")\n",
    "fig.show()"
   ]
  },
  {
   "cell_type": "code",
   "execution_count": null,
   "metadata": {},
   "outputs": [],
   "source": [
    "fig = plot_andel_stilling(df, \"tidspunkt_utfall_tertial\", \"Tertial\")\n",
    "fig.show()"
   ]
  },
  {
   "cell_type": "markdown",
   "metadata": {},
   "source": [
    "## Per år"
   ]
  },
  {
   "cell_type": "code",
   "execution_count": null,
   "metadata": {},
   "outputs": [],
   "source": [
    "df[\"tidspunkt_utfall_aar\"] = df[\"tidspunkt_utfall_yearmonth\"].str[:4]\n",
    "\n",
    "fig = plot_antall_faatt_jobb(df, \"tidspunkt_utfall_aar\", \"År\")\n",
    "fig.show()"
   ]
  },
  {
   "cell_type": "code",
   "execution_count": null,
   "metadata": {},
   "outputs": [],
   "source": [
    "fig = plot_andel_stilling(df, \"tidspunkt_utfall_aar\", \"År\")\n",
    "fig.show()"
   ]
  }
 ],
 "metadata": {
  "kernelspec": {
   "display_name": "Python 3 (ipykernel)",
   "language": "python",
   "name": "python3"
  },
  "language_info": {
   "codemirror_mode": {
    "name": "ipython",
    "version": 3
   },
   "file_extension": ".py",
   "mimetype": "text/x-python",
   "name": "python",
   "nbconvert_exporter": "python",
   "pygments_lexer": "ipython3",
   "version": "3.11.8"
  }
 },
 "nbformat": 4,
 "nbformat_minor": 4
}
