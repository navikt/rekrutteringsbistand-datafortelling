{
 "cells": [
  {
   "cell_type": "raw",
   "metadata": {},
   "source": [
    "---\n",
    "title: Formidlingstall\n",
    "title-block-banner: true\n",
    "title-block-banner-color: white\n",
    "date: now\n",
    "date-format: 'DD.MM.YYYY HH:mm:ss z'\n",
    "published-title: Oppdatert\n",
    "author: Team Toi\n",
    "author-title: Eier\n",
    "execute:\n",
    "  echo: false\n",
    "  warning: false\n",
    "format:\n",
    "  html:\n",
    "    page-layout: full\n",
    "    embed-resources: true\n",
    "---"
   ]
  },
  {
   "cell_type": "markdown",
   "metadata": {},
   "source": [
    "<span style=\"color:red;\">\n",
    "NB! Dette er ikke offisiell statistikk og må ikke deles utenfor NAV.\n",
    "</span>"
   ]
  },
  {
   "cell_type": "code",
   "execution_count": null,
   "metadata": {},
   "outputs": [],
   "source": [
    "from google.cloud.bigquery import Client\n",
    "import pandas as pd"
   ]
  },
  {
   "cell_type": "code",
   "execution_count": null,
   "metadata": {},
   "outputs": [],
   "source": [
    "project = \"toi-prod-324e\"\n",
    "bq_client = Client(project)"
   ]
  },
  {
   "cell_type": "code",
   "execution_count": null,
   "metadata": {},
   "outputs": [],
   "source": [
    "query = f\"\"\"\n",
    "    select\n",
    "        FORMAT_DATETIME('%Y-%m', u.tidspunkt) as tidspunkt_utfall_yearmonth,\n",
    "        vk.stillingskategori,\n",
    "        count(*) as antall\n",
    "    from `kandidat_api.utfallsendring` u\n",
    "        inner join `kandidat_api.veilkandidat` v on u.veilkandidat_db_id = v.db_id\n",
    "        inner join `kandidat_api.veilkandliste` vk on v.veilkandliste_db_id = vk.db_id\n",
    "    where u.nytt_utfall = 'FATT_JOBBEN'\n",
    "    group by tidspunkt_utfall_yearmonth, vk.stillingskategori\n",
    "    order by tidspunkt_utfall_yearmonth\n",
    "    \"\"\"\n",
    "df_synlige = bq_client.query(query=query).to_dataframe()"
   ]
  },
  {
   "cell_type": "code",
   "execution_count": null,
   "metadata": {},
   "outputs": [],
   "source": [
    "query = f\"\"\"\n",
    "    select\n",
    "        FORMAT_DATETIME('%Y-%m', DATE(TIMESTAMP_MILLIS(CAST(lagt_til_tidspunkt/1000000 AS INT64)))) as tidspunkt_utfall_yearmonth,\n",
    "        vk.stillingskategori,\n",
    "        count(*) as antall\n",
    "    from `kandidat_api.formidlingavusynligkandidat` fk\n",
    "        inner join `kandidat_api.veilkandliste` vk on fk.veilkandliste_db_id = vk.db_id\n",
    "    where fk.utfall = 'FATT_JOBBEN'\n",
    "    group by tidspunkt_utfall_yearmonth, vk.stillingskategori\n",
    "    order by tidspunkt_utfall_yearmonth\n",
    " \"\"\"\n",
    "df_usynlige = bq_client.query(query=query).to_dataframe()"
   ]
  },
  {
   "cell_type": "code",
   "execution_count": null,
   "metadata": {},
   "outputs": [],
   "source": [
    "df_synlige[\"synlige_kandidater\"] = True\n",
    "df_usynlige[\"synlige_kandidater\"] = False"
   ]
  },
  {
   "cell_type": "code",
   "execution_count": null,
   "metadata": {},
   "outputs": [],
   "source": [
    "df = pd.concat([df_synlige, df_usynlige], ignore_index=True)\n",
    "df = df.sort_values(\"tidspunkt_utfall_yearmonth\")"
   ]
  },
  {
   "cell_type": "code",
   "execution_count": null,
   "metadata": {},
   "outputs": [],
   "source": [
    "# Erstatt None med \"Uten kategori\"\n",
    "df.fillna(\"Uten kategori\", inplace=True)"
   ]
  },
  {
   "cell_type": "code",
   "execution_count": null,
   "metadata": {},
   "outputs": [],
   "source": [
    "import plotly.graph_objects as go\n",
    "\n",
    "fig = go.Figure()\n",
    "for stillingskategori in df.stillingskategori.unique():\n",
    "    fig.add_trace(\n",
    "        go.Scatter(\n",
    "            x=df[\n",
    "                df.stillingskategori == stillingskategori\n",
    "            ].tidspunkt_utfall_yearmonth.unique(),\n",
    "            y=df[df.stillingskategori == stillingskategori]\n",
    "            .groupby(\"tidspunkt_utfall_yearmonth\")\n",
    "            .antall.sum(),\n",
    "            name=stillingskategori,\n",
    "            mode=\"lines+markers\",\n",
    "            line=dict(width=2),\n",
    "            marker=dict(size=4),\n",
    "        )\n",
    "    )\n",
    "fig.update_layout(\n",
    "    title_text=\"Antall fått jobben per måned\", xaxis_title=\"Måned\", yaxis_title=\"Antall\"\n",
    ")\n",
    "\n",
    "# Legg til x-slider\n",
    "fig.update_layout(\n",
    "    xaxis=dict(autorange=True, rangeslider=dict(autorange=True, visible=True)),\n",
    ")\n",
    "\n",
    "fig.show()"
   ]
  },
  {
   "cell_type": "code",
   "execution_count": null,
   "metadata": {},
   "outputs": [],
   "source": [
    "antall_stillinger = (\n",
    "    df[df.stillingskategori == \"STILLING\"]\n",
    "    .groupby(\"tidspunkt_utfall_yearmonth\")\n",
    "    .antall.sum()\n",
    ")\n",
    "totalt_antall = df.groupby(\"tidspunkt_utfall_yearmonth\").antall.sum()\n",
    "\n",
    "andel_stilling = antall_stillinger / totalt_antall\n",
    "andel_stilling = andel_stilling.reset_index()"
   ]
  },
  {
   "cell_type": "code",
   "execution_count": null,
   "metadata": {},
   "outputs": [],
   "source": [
    "fig = go.Figure()\n",
    "fig.add_trace(\n",
    "    go.Scatter(\n",
    "        x=andel_stilling.tidspunkt_utfall_yearmonth,\n",
    "        y=andel_stilling.antall,\n",
    "        name=\"Andel stilling\",\n",
    "        mode=\"lines+markers\",\n",
    "        line=dict(width=2),\n",
    "        marker=dict(size=4),\n",
    "    )\n",
    ")\n",
    "fig.update_layout(\n",
    "    title_text=\"Andel stilling (STILLING / TOTALT)\",\n",
    "    xaxis_title=\"Måned\",\n",
    "    yaxis_title=\"Andel\",\n",
    ")\n",
    "fig.update_yaxes(range=[0, 0.5])\n",
    "\n",
    "# Legg til x-slider\n",
    "fig.update_layout(\n",
    "    xaxis=dict(autorange=True, rangeslider=dict(autorange=True, visible=True)),\n",
    ")\n",
    "\n",
    "fig.show()"
   ]
  }
 ],
 "metadata": {
  "kernelspec": {
   "display_name": "Python 3 (ipykernel)",
   "language": "python",
   "name": "python3"
  },
  "language_info": {
   "codemirror_mode": {
    "name": "ipython",
    "version": 3
   },
   "file_extension": ".py",
   "mimetype": "text/x-python",
   "name": "python",
   "nbconvert_exporter": "python",
   "pygments_lexer": "ipython3",
   "version": "3.11.8"
  }
 },
 "nbformat": 4,
 "nbformat_minor": 4
}
